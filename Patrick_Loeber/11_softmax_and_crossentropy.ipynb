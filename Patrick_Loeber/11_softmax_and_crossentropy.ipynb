{
 "cells": [
  {
   "cell_type": "code",
   "execution_count": 2,
   "metadata": {},
   "outputs": [],
   "source": [
    "import torch\n",
    "import torch.nn as nn\n",
    "import numpy as np"
   ]
  },
  {
   "cell_type": "code",
   "execution_count": 3,
   "metadata": {},
   "outputs": [],
   "source": [
    "def softmax(x):\n",
    "    return np.exp(x) / np.sum(np.exp(x), axis=0)"
   ]
  },
  {
   "cell_type": "code",
   "execution_count": 4,
   "metadata": {},
   "outputs": [
    {
     "name": "stdout",
     "output_type": "stream",
     "text": [
      "softmax numpy:  [0.65900114 0.24243297 0.09856589]\n"
     ]
    }
   ],
   "source": [
    "x = np.array([2.0, 1.0, 0.1])\n",
    "outputs = softmax(x)\n",
    "print('softmax numpy: ', outputs)"
   ]
  },
  {
   "cell_type": "code",
   "execution_count": 5,
   "metadata": {},
   "outputs": [
    {
     "name": "stdout",
     "output_type": "stream",
     "text": [
      "Softmax, torch:  tensor([0.6590, 0.2424, 0.0986])\n"
     ]
    }
   ],
   "source": [
    "x = torch.tensor([2.0, 1.0, 0.1])\n",
    "outputs = torch.softmax(x, dim=0)\n",
    "print('Softmax, torch: ', outputs)"
   ]
  },
  {
   "cell_type": "code",
   "execution_count": 6,
   "metadata": {},
   "outputs": [],
   "source": [
    "def cross_entropy(actual, predicted):\n",
    "    EPS = 1e-15\n",
    "    predicted = np.clip(predicted, EPS, 1 - EPS)\n",
    "    loss = -np.sum(actual * np.log(predicted))\n",
    "    return loss "
   ]
  },
  {
   "cell_type": "code",
   "execution_count": 7,
   "metadata": {},
   "outputs": [
    {
     "name": "stdout",
     "output_type": "stream",
     "text": [
      "Loss1 numpy: 0.3567\n",
      "Loss2 numpy: 2.3026\n"
     ]
    }
   ],
   "source": [
    "# Y must be one hot encoded\n",
    "# if class 0: [1, 0, 0]\n",
    "# if class 1: [0, 1, 0]\n",
    "# if class 2: [0, 0, 1]\n",
    "\n",
    "y = np.array([1, 0, 0])\n",
    "y_pred_good  = np.array([0.7, 0.2, 0.1])\n",
    "y_pred_bad = np.array([0.1, 0.3, 0.6])\n",
    "\n",
    "l1 = cross_entropy(y, y_pred_good)\n",
    "l2 = cross_entropy(y, y_pred_bad)\n",
    "\n",
    "print(f\"Loss1 numpy: {l1:.4f}\")\n",
    "print(f\"Loss2 numpy: {l2:.4f}\")\n"
   ]
  },
  {
   "cell_type": "code",
   "execution_count": 8,
   "metadata": {},
   "outputs": [],
   "source": [
    "# CrossEntropyLoss in Pytorch (applies softmax)\n",
    "# nn.LogSoftmax + nn.NLLLoss\n",
    "# NLLLoss = Negative log likelihood loss\n",
    "loss = nn.CrossEntropyLoss()\n",
    "# loss(input, target)"
   ]
  },
  {
   "cell_type": "code",
   "execution_count": 9,
   "metadata": {},
   "outputs": [
    {
     "name": "stdout",
     "output_type": "stream",
     "text": [
      "Pytorch loss1: 0.4170\n",
      "Pytorch loss2: 0.9398\n"
     ]
    }
   ],
   "source": [
    "# target is of size nSamples = 1\n",
    "# each element has class labels: 0, 1 or 2\n",
    "# y = (=target) contains class labels, not one-hot\n",
    "\n",
    "Y = torch.tensor([0])\n",
    "\n",
    "# input is of size nSamples x nClassses = 1 x 3\n",
    "# y_pred (=input) must be raw, unnormalizes scores (logits) for each class, not softmax\n",
    "\n",
    "y_pred_good = torch.tensor([[2.0, 1.0, 0.1]])\n",
    "y_pred_bad = torch.tensor([[0.5, 0.2, 0.3]])\n",
    "\n",
    "l1 = loss(y_pred_good, Y)\n",
    "l2 = loss(y_pred_bad, Y)\n",
    "\n",
    "print(f'Pytorch loss1: {l1.item():.4f}')\n",
    "print(f'Pytorch loss2: {l2.item():.4f}')\n"
   ]
  },
  {
   "cell_type": "code",
   "execution_count": 10,
   "metadata": {},
   "outputs": [
    {
     "name": "stdout",
     "output_type": "stream",
     "text": [
      "Actual class: 0, y_pred1: 0, y_pred2: 0\n"
     ]
    }
   ],
   "source": [
    "# get predictions\n",
    "\n",
    "_, predictions1 = torch.max(y_pred_good, 1)\n",
    "_, predictions2 = torch.max(y_pred_bad, dim=1)\n",
    "\n",
    "print(f'Actual class: {Y.item()}, y_pred1: {predictions1.item()}, y_pred2: {predictions2.item()}')"
   ]
  },
  {
   "cell_type": "code",
   "execution_count": 12,
   "metadata": {},
   "outputs": [
    {
     "name": "stdout",
     "output_type": "stream",
     "text": [
      "Batch loss1: 0.2834\n",
      "Batch loss2: 1.6418\n",
      "Actual class: tensor([2, 0, 1]), y_pred1: tensor([2, 0, 1]), y_pred2: tensor([0, 2, 0])\n"
     ]
    }
   ],
   "source": [
    "# Allow batch loss for multiple samples\n",
    "\n",
    "# target is of size nBatch = 3\n",
    "# each element has class label: 0, 1, or 2\n",
    "\n",
    "Y = torch.tensor([2, 0, 1])\n",
    "\n",
    "# input is of size nBatch x nClasses = 3 x 3\n",
    "# y_pred are logits (not softmax)\n",
    "\n",
    "y_pred_good = torch.tensor(\n",
    "    [[0.1, 0.2, 3.9],\n",
    "     [1.2, 0.1, 0.3],\n",
    "     [0.3, 2.2, 0.2]]\n",
    ")\n",
    "\n",
    "y_pred_bad = torch.tensor(\n",
    "    [[0.9, 0.2, 0.1],\n",
    "     [0.1, 0.3, 1.5],\n",
    "     [1.2, 0.2, 0.5]]\n",
    ")\n",
    "\n",
    "l1 = loss(y_pred_good, Y)\n",
    "l2 = loss(y_pred_bad, Y)\n",
    "\n",
    "print(f'Batch loss1: {l1.item():.4f}')\n",
    "print(f'Batch loss2: {l2.item():.4f}')\n",
    "\n",
    "# get predictions\n",
    "\n",
    "_, predictions1 = torch.max(y_pred_good, dim=1)\n",
    "_, predictions2 = torch.max(y_pred_bad, dim=1)\n",
    "print(f'Actual class: {Y}, y_pred1: {predictions1}, y_pred2: {predictions2}')"
   ]
  },
  {
   "cell_type": "markdown",
   "metadata": {},
   "source": [
    "# Binary classification"
   ]
  },
  {
   "cell_type": "code",
   "execution_count": 13,
   "metadata": {},
   "outputs": [],
   "source": [
    "class NeuralNet1(nn.Module):\n",
    "\n",
    "    def __init__(self, input_size, hidden_size):\n",
    "        super(NeuralNet1, self).__init__()\n",
    "        self.linear1 = nn.Linear(input_size, hidden_size)\n",
    "        self.relu = nn.ReLU()\n",
    "        self.linear2 = nn.Linear(hidden_size, 1)\n",
    "\n",
    "    def forward(self, x):\n",
    "        out = self.linear1(x)\n",
    "        out = self.relu(out)\n",
    "        out = self.linear2(out)\n",
    "        # add sigmoid at the end\n",
    "        y_pred = torch.sigmoid(out)\n",
    "        return y_pred\n",
    "    \n",
    "\n",
    "model = NeuralNet1(input_size=28*28, hidden_size=5)\n",
    "criterian = nn.BCELoss()"
   ]
  },
  {
   "cell_type": "markdown",
   "metadata": {},
   "source": [
    "# Multiclass problem"
   ]
  },
  {
   "cell_type": "code",
   "execution_count": 14,
   "metadata": {},
   "outputs": [],
   "source": [
    "class NeuralNet2:\n",
    "\n",
    "    def __init__(self, input_size, hidden_size, n_classes):\n",
    "        super(NeuralNet2, self).__init__()\n",
    "        self.linear1 = nn.Linear(input_size, hidden_size)\n",
    "        self.relu = nn.ReLU()\n",
    "        self.linear2 = nn.Linear(hidden_size, n_classes)\n",
    "\n",
    "    def forward(self, x):\n",
    "        out = self.linear1(x)\n",
    "        out = self.relu(out)\n",
    "        out = self.linear2(out)\n",
    "        # no softmax required\n",
    "        return out \n",
    "    \n",
    "\n",
    "model = NeuralNet2(input_size=28*28, hidden_size=5, n_classes=3)\n",
    "criterion = nn.CrossEntropyLoss()"
   ]
  },
  {
   "cell_type": "code",
   "execution_count": null,
   "metadata": {},
   "outputs": [],
   "source": []
  }
 ],
 "metadata": {
  "kernelspec": {
   "display_name": "deeplearning",
   "language": "python",
   "name": "python3"
  },
  "language_info": {
   "codemirror_mode": {
    "name": "ipython",
    "version": 3
   },
   "file_extension": ".py",
   "mimetype": "text/x-python",
   "name": "python",
   "nbconvert_exporter": "python",
   "pygments_lexer": "ipython3",
   "version": "3.10.0"
  }
 },
 "nbformat": 4,
 "nbformat_minor": 2
}
